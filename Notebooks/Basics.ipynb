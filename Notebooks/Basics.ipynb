{
 "cells": [
  {
   "cell_type": "markdown",
   "metadata": {},
   "source": [
    "# Python Basics\n",
    "\n",
    "Last update: Sept. 15th, 2020"
   ]
  },
  {
   "cell_type": "markdown",
   "metadata": {},
   "source": [
    "## Variable Assignment\n",
    "\n",
    "The first thing we will learn is the idea of *variable assignment*. Below, we assign the value “Hello World” to the variable `x`"
   ]
  },
  {
   "cell_type": "code",
   "execution_count": 1,
   "metadata": {
    "hide-output": false
   },
   "outputs": [],
   "source": [
    "x = \"Hello World\""
   ]
  },
  {
   "cell_type": "markdown",
   "metadata": {},
   "source": [
    "Once we have assigned a value to a variable, Python will remember this variable as long as the *current* (Jupyter notebook) session of Python is still running."
   ]
  },
  {
   "cell_type": "code",
   "execution_count": 2,
   "metadata": {
    "hide-output": false
   },
   "outputs": [
    {
     "data": {
      "text/plain": [
       "'Hello World'"
      ]
     },
     "execution_count": 2,
     "metadata": {},
     "output_type": "execute_result"
    }
   ],
   "source": [
    "x"
   ]
  },
  {
   "cell_type": "markdown",
   "metadata": {},
   "source": [
    "You define a variable before using it."
   ]
  },
  {
   "cell_type": "code",
   "execution_count": 5,
   "metadata": {
    "hide-output": false
   },
   "outputs": [
    {
     "ename": "NameError",
     "evalue": "name 'y' is not defined",
     "output_type": "error",
     "traceback": [
      "\u001b[1;31m---------------------------------------------------------------------------\u001b[0m",
      "\u001b[1;31mNameError\u001b[0m                                 Traceback (most recent call last)",
      "\u001b[1;32m<ipython-input-5-9323edb3bb53>\u001b[0m in \u001b[0;36m<module>\u001b[1;34m\u001b[0m\n\u001b[0;32m      1\u001b[0m \u001b[1;31m# uncomment (delete the # and the space) the line below and run\u001b[0m\u001b[1;33m\u001b[0m\u001b[1;33m\u001b[0m\u001b[1;33m\u001b[0m\u001b[0m\n\u001b[1;32m----> 2\u001b[1;33m \u001b[0my\u001b[0m\u001b[1;33m\u001b[0m\u001b[1;33m\u001b[0m\u001b[0m\n\u001b[0m",
      "\u001b[1;31mNameError\u001b[0m: name 'y' is not defined"
     ]
    }
   ],
   "source": [
    "# uncomment (delete the # and the space) the line below and run\n",
    "y"
   ]
  },
  {
   "cell_type": "code",
   "execution_count": 4,
   "metadata": {
    "hide-output": false
   },
   "outputs": [
    {
     "name": "stdout",
     "output_type": "stream",
     "text": [
      "2\n",
      "something else\n"
     ]
    }
   ],
   "source": [
    "x = 2\n",
    "print(x)\n",
    "x = \"something else\"\n",
    "print(x)"
   ]
  },
  {
   "cell_type": "markdown",
   "metadata": {},
   "source": [
    "## Code Comments\n",
    "\n",
    "A comment is made with the `#`. Python ignores everything in a line that follows a `#`.\n"
   ]
  },
  {
   "cell_type": "code",
   "execution_count": null,
   "metadata": {
    "hide-output": false
   },
   "outputs": [],
   "source": [
    "i = 1  # Assign the value 1 to variable i\n",
    "j = 2  # Assign the value 2 to variable j\n",
    "\n",
    "# We add i and j below this line\n",
    "i + j"
   ]
  },
  {
   "cell_type": "markdown",
   "metadata": {},
   "source": [
    "## Functions\n",
    "\n",
    "Functions are processes that take an input (or inputs) and produce an output.\n",
    "\n",
    "Terminology: If we had a function called `f` that took two arguments `x` and `y`, we would write `f(x, y)` to use the function.\n"
   ]
  },
  {
   "cell_type": "code",
   "execution_count": 6,
   "metadata": {
    "hide-output": false
   },
   "outputs": [
    {
     "name": "stdout",
     "output_type": "stream",
     "text": [
      "something else\n"
     ]
    }
   ],
   "source": [
    "# The \"print\" function has one argument, x\n",
    "\n",
    "print(x)"
   ]
  },
  {
   "cell_type": "markdown",
   "metadata": {},
   "source": [
    "## Objects and Types\n",
    "\n",
    "Everything in Python is an *object*.\n",
    "\n",
    "Objects are “things” that contain 1) data and 2) functions that can operate on\n",
    "the data.\n",
    "\n",
    "Sometimes we refer to the functions inside an object as *methods*.\n",
    "\n",
    "We can investigate what data is inside an object and which methods\n",
    "it supports by typing `.` after that particular variable, then\n",
    "hitting `TAB`.\n",
    "\n",
    "It should then list data and method names to the right of the\n",
    "variable name like this:\n",
    "\n",
    "![https://datascience.quantecon.org/assets/_static/python_fundamentals/introspection.png](https://datascience.quantecon.org/assets/_static/python_fundamentals/introspection.png)  \n",
    "You can scroll through this list by using the up and down arrows.\n",
    "\n",
    "We often refer to this as “tab completion” or “introspection”.\n",
    "\n",
    "Let’s do this together below. Keep going down until you find the method\n",
    "`split`."
   ]
  },
  {
   "cell_type": "code",
   "execution_count": null,
   "metadata": {
    "hide-output": false
   },
   "outputs": [],
   "source": [
    "# Type a period after `x` and then press TAB.\n",
    "x"
   ]
  },
  {
   "cell_type": "markdown",
   "metadata": {},
   "source": [
    "Once you have found the method `split`, you can use the method by adding\n",
    "parenthesis after it.\n",
    "\n",
    "Let’s call the `split` method, which doesn’t have any other required\n",
    "parameters. (Quiz: how would we check that?)"
   ]
  },
  {
   "cell_type": "code",
   "execution_count": null,
   "metadata": {
    "hide-output": false
   },
   "outputs": [],
   "source": [
    "x.split()"
   ]
  },
  {
   "cell_type": "markdown",
   "metadata": {},
   "source": [
    "We often want to identify what kind of object some value is–\n",
    "called its “type”.\n",
    "\n",
    "A “type” is an abstraction which defines a set of behavior for any\n",
    "“instance” of that type i.e. `2.0` and `3.0` are instances\n",
    "of `float`, where `float` has a set of particular common behaviors.\n",
    "\n",
    "In particular, the type determines:\n",
    "\n",
    "- the available data for any “instance” of the type (where each\n",
    "  instance may have different values of the data).  \n",
    "- the methods that can be applied on the object and its data.  \n",
    "\n",
    "\n",
    "We can figure this out by using the `type` function.\n",
    "\n",
    "The `type` function takes a single argument and outputs the type of\n",
    "that argument."
   ]
  },
  {
   "cell_type": "code",
   "execution_count": null,
   "metadata": {
    "hide-output": false
   },
   "outputs": [],
   "source": [
    "type(3)"
   ]
  },
  {
   "cell_type": "code",
   "execution_count": null,
   "metadata": {
    "hide-output": false
   },
   "outputs": [],
   "source": [
    "type(\"Hello World\")"
   ]
  },
  {
   "cell_type": "code",
   "execution_count": null,
   "metadata": {
    "hide-output": false
   },
   "outputs": [],
   "source": [
    "type([1, 2, 3])"
   ]
  },
  {
   "cell_type": "markdown",
   "metadata": {},
   "source": [
    "## Modules\n",
    "\n",
    "Python takes a modular approach to tools.\n",
    "\n",
    "By this we mean that sets of related tools are bundled together into *packages*.\n",
    "(You may also hear the term modules to describe the same thing.)\n",
    "\n",
    "For example:\n",
    "\n",
    "- `pandas` is a package that implements the tools necessary to do\n",
    "  scalable data analysis.  \n",
    "- `matplotlib` is a package that implements visualization tools.  \n",
    "- `requests` and `urllib` are packages that allow Python to\n",
    "  interface with the internet.  \n",
    "\n",
    "\n",
    "As we move further into the class, being able to\n",
    "access these packages will become very important.\n",
    "\n",
    "We can bring a package’s functionality into our current Python session\n",
    "by writing"
   ]
  },
  {
   "cell_type": "markdown",
   "metadata": {
    "hide-output": false
   },
   "source": [
    "```python\n",
    "import package\n",
    "```\n"
   ]
  },
  {
   "cell_type": "markdown",
   "metadata": {},
   "source": [
    "Once we have done this, any function or object from that package can\n",
    "be accessed by using `package.name`.\n",
    "\n",
    "Here’s an example."
   ]
  },
  {
   "cell_type": "code",
   "execution_count": 7,
   "metadata": {
    "hide-output": false
   },
   "outputs": [
    {
     "data": {
      "text/plain": [
       "'3.7.7 (default, May  6 2020, 11:45:54) [MSC v.1916 64 bit (AMD64)]'"
      ]
     },
     "execution_count": 7,
     "metadata": {},
     "output_type": "execute_result"
    }
   ],
   "source": [
    "import sys   # for dealing with your computer's system\n",
    "sys.version  # information about the Python version in use"
   ]
  },
  {
   "cell_type": "markdown",
   "metadata": {},
   "source": [
    "### Module Aliases\n",
    "\n",
    "Some packages have long names (see `matplotlib`, for example) which\n",
    "makes accessing the package functionality somewhat inconvenient.\n",
    "\n",
    "To ease this burden, Python allows us to give aliases or “nicknames” to packages.\n",
    "\n",
    "For example we can write:"
   ]
  },
  {
   "cell_type": "markdown",
   "metadata": {
    "hide-output": false
   },
   "source": [
    "```python\n",
    "import package as p\n",
    "```\n"
   ]
  },
  {
   "cell_type": "markdown",
   "metadata": {},
   "source": [
    "This statement allows us to access the packages functionality as\n",
    "`p.function_name` rather than `package.function_name`.\n",
    "\n",
    "Some common aliases for packages are\n",
    "\n",
    "- `import pandas as pd`  \n",
    "- `import numpy as np`  \n",
    "- `import matplotlib as mpl`  \n",
    "- `import datetime as dt`  \n",
    "\n",
    "\n",
    "While you *can* choose any name for an alias, we suggest that you stick\n",
    "to the common ones.\n"
   ]
  },
  {
   "cell_type": "markdown",
   "metadata": {},
   "source": [
    "## Numbers\n",
    "\n",
    "Python has two types of numbers.\n",
    "\n",
    "1. Integer (`int`): These can only take the values of the integers\n",
    "  i.e. $ \\{\\dots, -2, -1, 0, 1, 2, \\dots\\} $  \n",
    "1. Floating Point Number (`float`): Think of these as any real number\n",
    "  such as $ 1.0 $, $ 3.1415 $, or $ -100.022358923223 $…  \n",
    "\n",
    "\n",
    "The easiest way to differentiate these types of numbers is to find a decimal place\n",
    "after the number.\n",
    "\n",
    "A float will have a decimal place, but an integer will not.\n",
    "\n",
    "Below, we assign integers to the variables `xi` and `zi` and assign\n",
    "floating point numbers to the variables `xf` and `zf`."
   ]
  },
  {
   "cell_type": "code",
   "execution_count": 10,
   "metadata": {
    "hide-output": false
   },
   "outputs": [],
   "source": [
    "xi = 1\n",
    "xf = 1.0\n",
    "zi = 123\n",
    "zf = 1230.5 \n",
    "zf2 = 1_230.5 # use \"_\" for readability, if necessary"
   ]
  },
  {
   "cell_type": "markdown",
   "metadata": {},
   "source": [
    "### Python as a Calculator\n",
    "\n",
    "You can use Python to perform mathematical calculations."
   ]
  },
  {
   "cell_type": "code",
   "execution_count": 12,
   "metadata": {
    "hide-output": false
   },
   "outputs": [
    {
     "name": "stdout",
     "output_type": "stream",
     "text": [
      "a + b is 6\n",
      "a - b is 2\n",
      "a * b is 8\n",
      "a / b is 2.0\n",
      "a ** b is 16\n"
     ]
    }
   ],
   "source": [
    "a = 4\n",
    "b = 2\n",
    "\n",
    "print(\"a + b is\", a + b)\n",
    "print(\"a - b is\", a - b)\n",
    "print(\"a * b is\", a * b)\n",
    "print(\"a / b is\", a / b)\n",
    "print(\"a ** b is\", a ** b) # Exponentiation"
   ]
  },
  {
   "cell_type": "markdown",
   "metadata": {},
   "source": [
    "You likely could have guessed all except the last two.\n",
    "\n",
    "**IMPORTANT**: Python uses `**`, not `^`, for exponentiation (raising a number to a power)!\n",
    "\n",
    "Notice also that above `+`, `-` and `**` all returned an integer\n",
    "type, but `/` converted the result to a float.\n",
    "\n",
    "When possible, operations between integers return an integer type.\n",
    "\n",
    "All operations involving a float will result in a float."
   ]
  },
  {
   "cell_type": "code",
   "execution_count": 13,
   "metadata": {
    "hide-output": false
   },
   "outputs": [
    {
     "name": "stdout",
     "output_type": "stream",
     "text": [
      "a + b is 6.0\n",
      "a - b is 2.0\n",
      "a * b is 8.0\n",
      "a / b is 2.0\n",
      "a ** b is 16.0\n"
     ]
    }
   ],
   "source": [
    "a = 4\n",
    "b = 2.0\n",
    "\n",
    "print(\"a + b is\", a + b)\n",
    "print(\"a - b is\", a - b)\n",
    "print(\"a * b is\", a * b)\n",
    "print(\"a / b is\", a / b)\n",
    "print(\"a ** b is\", a ** b)"
   ]
  },
  {
   "cell_type": "markdown",
   "metadata": {},
   "source": [
    "Python follows the standard [order of operations](https://en.wikipedia.org/wiki/Order_of_operations) — parenthesis, exponents,\n",
    "multiplication and division, followed by addition and subtraction."
   ]
  },
  {
   "cell_type": "code",
   "execution_count": null,
   "metadata": {
    "hide-output": false
   },
   "outputs": [],
   "source": [
    "x = 2.0\n",
    "y = 3.0\n",
    "z1 = x + y * x\n",
    "z2 = (x + y) * x"
   ]
  },
  {
   "cell_type": "markdown",
   "metadata": {},
   "source": [
    "### Other Math Functions\n",
    "\n",
    "We often want to use other math functions on our numbers. Let’s try to\n",
    "calculate sin(2.5)."
   ]
  },
  {
   "cell_type": "code",
   "execution_count": 14,
   "metadata": {
    "hide-output": false
   },
   "outputs": [
    {
     "ename": "NameError",
     "evalue": "name 'sin' is not defined",
     "output_type": "error",
     "traceback": [
      "\u001b[1;31m---------------------------------------------------------------------------\u001b[0m",
      "\u001b[1;31mNameError\u001b[0m                                 Traceback (most recent call last)",
      "\u001b[1;32m<ipython-input-14-f2e7b04d50a4>\u001b[0m in \u001b[0;36m<module>\u001b[1;34m\u001b[0m\n\u001b[1;32m----> 1\u001b[1;33m \u001b[0msin\u001b[0m\u001b[1;33m(\u001b[0m\u001b[1;36m2.5\u001b[0m\u001b[1;33m)\u001b[0m\u001b[1;33m\u001b[0m\u001b[1;33m\u001b[0m\u001b[0m\n\u001b[0m",
      "\u001b[1;31mNameError\u001b[0m: name 'sin' is not defined"
     ]
    }
   ],
   "source": [
    "sin(2.5)"
   ]
  },
  {
   "cell_type": "markdown",
   "metadata": {},
   "source": [
    "As seen above, Python complains that `sin` isn’t defined.\n",
    "\n",
    "The problem here is that the `sin` function – as well as many other\n",
    "standard math functions – are contained in the `math` package.\n",
    "\n",
    "We must begin by importing the math package."
   ]
  },
  {
   "cell_type": "code",
   "execution_count": 15,
   "metadata": {
    "hide-output": false
   },
   "outputs": [],
   "source": [
    "import math"
   ]
  },
  {
   "cell_type": "markdown",
   "metadata": {},
   "source": [
    "Now, we can use `math.[TAB]` to see what functions are available to us."
   ]
  },
  {
   "cell_type": "code",
   "execution_count": 17,
   "metadata": {
    "hide-output": false
   },
   "outputs": [
    {
     "data": {
      "text/plain": [
       "0.5984721441039564"
      ]
     },
     "execution_count": 17,
     "metadata": {},
     "output_type": "execute_result"
    }
   ],
   "source": [
    "# found math.sin!\n",
    "math.sin(2.5)"
   ]
  },
  {
   "cell_type": "markdown",
   "metadata": {},
   "source": [
    "#### Floor/Modulus Division Operators\n",
    "\n",
    "For two numbers assigned to the variables `x` and `y`,\n",
    "\n",
    "- Floor division: `x // y`  \n",
    "- Modulus division: `x % y`  \n",
    "\n",
    "Floor division returns the number of times the divisor goes into the dividend (the quotient)\n",
    "and modulus division returns the remainder.\n",
    "\n",
    "An example would be 37 divided by 7:\n",
    "\n",
    "- Floor division would return 5 (7 * 5 = 35)  \n",
    "- Modulus division would return 2 (2 + 35 = 37)  \n"
   ]
  },
  {
   "cell_type": "code",
   "execution_count": null,
   "metadata": {
    "hide-output": false
   },
   "outputs": [],
   "source": [
    "37 // 7"
   ]
  },
  {
   "cell_type": "code",
   "execution_count": null,
   "metadata": {
    "hide-output": false
   },
   "outputs": [],
   "source": [
    "37 % 7"
   ]
  },
  {
   "cell_type": "markdown",
   "metadata": {},
   "source": [
    "## Booleans\n",
    "\n",
    "A boolean is a type that denotes true or false.\n",
    "\n",
    "As you will soon see in the [control flow chapter](https://datascience.quantecon.org/control_flow.html), using\n",
    "boolean values allows you to perform or skip operations depending on whether or\n",
    "not a condition is met.\n",
    "\n",
    "Let’s start by creating some booleans and looking at them."
   ]
  },
  {
   "cell_type": "code",
   "execution_count": null,
   "metadata": {
    "hide-output": false
   },
   "outputs": [],
   "source": [
    "x = True\n",
    "y = False\n",
    "\n",
    "type(x)"
   ]
  },
  {
   "cell_type": "code",
   "execution_count": null,
   "metadata": {
    "hide-output": false
   },
   "outputs": [],
   "source": [
    "x"
   ]
  },
  {
   "cell_type": "code",
   "execution_count": null,
   "metadata": {
    "hide-output": false
   },
   "outputs": [],
   "source": [
    "y"
   ]
  },
  {
   "cell_type": "markdown",
   "metadata": {},
   "source": [
    "### Comparison Operators\n",
    "\n",
    "Rather than directly write `True` or `False`, you will usually\n",
    "create booleans by making a comparison.\n",
    "\n",
    "For example, you might want to evaluate whether the price of a particular asset\n",
    "is greater than or less than some price.\n",
    "\n",
    "For two variables `x` and `y`, we can do the following comparisons:\n",
    "\n",
    "- Greater than: `x > y`  \n",
    "- Less than: `x < y`  \n",
    "- Equal to: `==`  \n",
    "- Greater than or equal to: `x >= y`  \n",
    "- Less than or equal to: `x <= y`  \n",
    "\n",
    "\n",
    "We demonstrate these below."
   ]
  },
  {
   "cell_type": "code",
   "execution_count": null,
   "metadata": {
    "hide-output": false
   },
   "outputs": [],
   "source": [
    "a = 4\n",
    "b = 2\n",
    "\n",
    "print(\"a > b\", \"is\", a > b)\n",
    "print(\"a < b\", \"is\", a < b)\n",
    "print(\"a == b\", \"is\", a == b)\n",
    "print(\"a >= b\", \"is\", a >= b)\n",
    "print(\"a <= b\", \"is\", a <= b)"
   ]
  },
  {
   "cell_type": "markdown",
   "metadata": {},
   "source": [
    "### Negation\n",
    "\n",
    "Occasionally, determining whether a statement is\n",
    "“not true” or “not false” is more convenient than simply “true” or “false”.\n",
    "\n",
    "This is known as *negating* a statement.\n",
    "\n",
    "In Python, we can negate a boolean using the word `not`."
   ]
  },
  {
   "cell_type": "code",
   "execution_count": null,
   "metadata": {
    "hide-output": false
   },
   "outputs": [],
   "source": [
    "not False"
   ]
  },
  {
   "cell_type": "code",
   "execution_count": null,
   "metadata": {
    "hide-output": false
   },
   "outputs": [],
   "source": [
    "not True"
   ]
  },
  {
   "cell_type": "markdown",
   "metadata": {},
   "source": [
    "### Multiple Comparisons (and/or)\n",
    "\n",
    "Sometimes we need to evaluate multiple comparisons at once.\n",
    "\n",
    "This is done by using the words `and` and `or`.\n",
    "\n",
    "However, these are the “mathematical” *and*s and *or*s – so they\n",
    "don’t carry the same meaning as you’d use them in colloquial English.\n",
    "\n",
    "- `a and b` is true only when **both** `a` and `b` are true.  \n",
    "- `a or b` is true whenever at least one of `a` or `b` is true.  \n",
    "\n",
    "Examples below"
   ]
  },
  {
   "cell_type": "code",
   "execution_count": null,
   "metadata": {
    "hide-output": false
   },
   "outputs": [],
   "source": [
    "True and False"
   ]
  },
  {
   "cell_type": "code",
   "execution_count": null,
   "metadata": {
    "hide-output": false
   },
   "outputs": [],
   "source": [
    "True and True"
   ]
  },
  {
   "cell_type": "code",
   "execution_count": null,
   "metadata": {
    "hide-output": false
   },
   "outputs": [],
   "source": [
    "True or False"
   ]
  },
  {
   "cell_type": "code",
   "execution_count": null,
   "metadata": {
    "hide-output": false
   },
   "outputs": [],
   "source": [
    "False or False"
   ]
  },
  {
   "cell_type": "code",
   "execution_count": null,
   "metadata": {
    "hide-output": false
   },
   "outputs": [],
   "source": [
    "# Can chain multiple comparisons together.\n",
    "True and (False or True)"
   ]
  },
  {
   "cell_type": "markdown",
   "metadata": {},
   "source": [
    "### `all` and `any`\n",
    "\n",
    "We have seen how we can use the words `and` and `or` to process two booleans\n",
    "at a time.\n",
    "\n",
    "The functions `all` and `any` allow us to process an unlimited number of\n",
    "booleans at once.\n",
    "\n",
    "`all(bools)` will return `True` if and only if all the booleans in `bools`\n",
    "is `True` and returns `False` otherwise.\n",
    "\n",
    "`any(bools)` returns `True` whenever one or more of `bools` is `True`.\n"
   ]
  }
 ],
 "metadata": {
  "date": 1596739280.2860346,
  "filename": "basics.rst",
  "kernelspec": {
   "display_name": "Python 3",
   "language": "python",
   "name": "python3"
  },
  "language_info": {
   "codemirror_mode": {
    "name": "ipython",
    "version": 3
   },
   "file_extension": ".py",
   "mimetype": "text/x-python",
   "name": "python",
   "nbconvert_exporter": "python",
   "pygments_lexer": "ipython3",
   "version": "3.7.7"
  },
  "next_doc": {
   "link": "collections",
   "title": "Collections"
  },
  "prev_doc": {
   "link": "index",
   "title": "Python Fundamentals"
  },
  "title": "Basics"
 },
 "nbformat": 4,
 "nbformat_minor": 4
}
