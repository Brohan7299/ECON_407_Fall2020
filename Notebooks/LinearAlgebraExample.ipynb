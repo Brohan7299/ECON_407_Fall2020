{
 "cells": [
  {
   "cell_type": "markdown",
   "metadata": {},
   "source": [
    "## Linear Algebra"
   ]
  },
  {
   "cell_type": "code",
   "execution_count": 22,
   "metadata": {},
   "outputs": [],
   "source": [
    "import numpy as np\n",
    "\n",
    "x = np.array([1, 2, 3])\n",
    "y = np.array([4, 5, 6])\n",
    "\n",
    "A = np.random.rand(3, 3)\n",
    "B = np.random.rand(3, 5)"
   ]
  },
  {
   "cell_type": "code",
   "execution_count": 32,
   "metadata": {},
   "outputs": [
    {
     "name": "stdout",
     "output_type": "stream",
     "text": [
      "[[0.03186122 0.00837979 0.84148088]\n",
      " [0.83600124 0.21589687 0.95124291]\n",
      " [0.73978288 0.00639963 0.03081408]]\n",
      "[[0.03186122 0.83600124 0.73978288]\n",
      " [0.00837979 0.21589687 0.00639963]\n",
      " [0.84148088 0.95124291 0.03081408]]\n"
     ]
    }
   ],
   "source": [
    "# Transpose\n",
    "print(A)\n",
    "print(A.transpose())"
   ]
  },
  {
   "cell_type": "code",
   "execution_count": 11,
   "metadata": {},
   "outputs": [
    {
     "name": "stdout",
     "output_type": "stream",
     "text": [
      "[5 7 9]\n",
      "[-3 -3 -3]\n"
     ]
    }
   ],
   "source": [
    "# Addition / Substraction\n",
    "print(x + y)\n",
    "print(x - y)"
   ]
  },
  {
   "cell_type": "code",
   "execution_count": 20,
   "metadata": {},
   "outputs": [
    {
     "data": {
      "text/plain": [
       "array([3.11212873, 1.46021092, 4.14555591])"
      ]
     },
     "execution_count": 20,
     "metadata": {},
     "output_type": "execute_result"
    }
   ],
   "source": [
    "# Multiplication\n",
    "np.dot(A, x)"
   ]
  },
  {
   "cell_type": "code",
   "execution_count": 21,
   "metadata": {},
   "outputs": [
    {
     "name": "stdout",
     "output_type": "stream",
     "text": [
      "3.112128725756909\n"
     ]
    }
   ],
   "source": [
    "res = 0\n",
    "for i in range(3):\n",
    "    res = res + A[0, i] * x[i]\n",
    "print(res)"
   ]
  },
  {
   "cell_type": "code",
   "execution_count": 25,
   "metadata": {},
   "outputs": [
    {
     "data": {
      "text/plain": [
       "array([[0.83226318, 0.83927654, 0.69781026, 0.10176759, 0.38694018],\n",
       "       [1.02246745, 1.13950673, 1.02356013, 0.5332835 , 1.03946706],\n",
       "       [0.04933927, 0.16939824, 0.17710723, 0.22036344, 0.39464019]])"
      ]
     },
     "execution_count": 25,
     "metadata": {},
     "output_type": "execute_result"
    }
   ],
   "source": [
    "np.dot(A, B)"
   ]
  },
  {
   "cell_type": "code",
   "execution_count": 30,
   "metadata": {},
   "outputs": [
    {
     "data": {
      "text/plain": [
       "array([[-4.54973122e-03, -4.12805865e-02,  1.39859357e+00],\n",
       "       [-5.45866397e+00,  5.00437775e+00, -5.42016641e+00],\n",
       "       [ 1.24291286e+00, -4.82724957e-02,  1.02077334e-03]])"
      ]
     },
     "execution_count": 30,
     "metadata": {},
     "output_type": "execute_result"
    }
   ],
   "source": [
    "# Inverse\n",
    "np.linalg.inv(A)"
   ]
  }
 ],
 "metadata": {
  "kernelspec": {
   "display_name": "Python 3",
   "language": "python",
   "name": "python3"
  },
  "language_info": {
   "codemirror_mode": {
    "name": "ipython",
    "version": 3
   },
   "file_extension": ".py",
   "mimetype": "text/x-python",
   "name": "python",
   "nbconvert_exporter": "python",
   "pygments_lexer": "ipython3",
   "version": "3.7.7"
  }
 },
 "nbformat": 4,
 "nbformat_minor": 4
}
